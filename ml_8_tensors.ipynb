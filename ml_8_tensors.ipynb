{
 "cells": [
  {
   "cell_type": "markdown",
   "metadata": {},
   "source": [
    "### Tensors\n",
    "\n",
    "Think of a tensor like a container that can hold numbers arranged in a specific pattern. \n",
    "\n",
    "- **Scalar**: Imagine a single jar holding just one candy.\n",
    "- **Vector**: Now, picture a row of jars lined up together, each holding a candy. This is a vector.\n",
    "- **Matrix**: Envision a grid of jars, with candies arranged in rows and columns.\n",
    "- **Tensor**: Now, think bigger. Imagine multiple grids stacked on top of each other, with candies filling each grid. That's a tensor!\n",
    "\n",
    "So, a tensor is basically a way to organize numbers in a structured, multi-dimensional container, just like jars can hold candies in different arrangements."
   ]
  },
  {
   "cell_type": "markdown",
   "metadata": {},
   "source": [
    "- 0D Tensor"
   ]
  },
  {
   "cell_type": "code",
   "execution_count": 1,
   "metadata": {},
   "outputs": [
    {
     "data": {
      "text/plain": [
       "array(4)"
      ]
     },
     "execution_count": 1,
     "metadata": {},
     "output_type": "execute_result"
    }
   ],
   "source": [
    "import numpy as np\n",
    "a = np.array(4)\n",
    "a"
   ]
  },
  {
   "cell_type": "code",
   "execution_count": 3,
   "metadata": {},
   "outputs": [
    {
     "data": {
      "text/plain": [
       "0"
      ]
     },
     "execution_count": 3,
     "metadata": {},
     "output_type": "execute_result"
    }
   ],
   "source": [
    "a.ndim"
   ]
  },
  {
   "cell_type": "markdown",
   "metadata": {},
   "source": [
    "A 0D tensor is the simplest type of tensor. It's essentially just a single number, like a scalar. \n",
    "\n",
    "Imagine you have a single jar, and inside that jar, there's only one candy. That's it! That's a 0D tensor. It doesn't have any additional dimensions or structure. It's just a single value, like the number 5 or the temperature of 20 degrees Celsius."
   ]
  },
  {
   "cell_type": "markdown",
   "metadata": {},
   "source": [
    "- 1D Tensor"
   ]
  },
  {
   "cell_type": "code",
   "execution_count": 4,
   "metadata": {},
   "outputs": [
    {
     "data": {
      "text/plain": [
       "array([1, 2, 3, 4])"
      ]
     },
     "execution_count": 4,
     "metadata": {},
     "output_type": "execute_result"
    }
   ],
   "source": [
    "arr = np.array([1,2,3,4])\n",
    "arr"
   ]
  },
  {
   "cell_type": "code",
   "execution_count": 5,
   "metadata": {},
   "outputs": [
    {
     "data": {
      "text/plain": [
       "1"
      ]
     },
     "execution_count": 5,
     "metadata": {},
     "output_type": "execute_result"
    }
   ],
   "source": [
    "arr.ndim"
   ]
  },
  {
   "cell_type": "markdown",
   "metadata": {},
   "source": [
    "A 1D tensor is like a list of numbers, lined up in a single row. \n",
    "\n",
    "Imagine you have several jars placed next to each other on a shelf, and each jar contains a certain number of candies. Each jar represents a number, and the arrangement of these jars in a line represents the 1D tensor.\n",
    "\n",
    "For example, if you have jars with 3, 7, 2, and 5 candies respectively, you could represent them as a 1D tensor like this: [3, 7, 2, 5]. \n",
    "\n",
    "So, a 1D tensor is like a sequence or a list of numbers arranged in a single row."
   ]
  },
  {
   "cell_type": "markdown",
   "metadata": {},
   "source": [
    "- 2D Tensor"
   ]
  },
  {
   "cell_type": "code",
   "execution_count": 7,
   "metadata": {},
   "outputs": [
    {
     "data": {
      "text/plain": [
       "array([[1, 2, 3],\n",
       "       [4, 5, 6],\n",
       "       [7, 8, 9]])"
      ]
     },
     "execution_count": 7,
     "metadata": {},
     "output_type": "execute_result"
    }
   ],
   "source": [
    "mat = np.array([[1,2,3],[4,5,6],[7,8,9]])\n",
    "mat"
   ]
  },
  {
   "cell_type": "code",
   "execution_count": 8,
   "metadata": {},
   "outputs": [
    {
     "data": {
      "text/plain": [
       "2"
      ]
     },
     "execution_count": 8,
     "metadata": {},
     "output_type": "execute_result"
    }
   ],
   "source": [
    "mat.ndim"
   ]
  },
  {
   "cell_type": "markdown",
   "metadata": {},
   "source": [
    "A 2D tensor is like a table or grid of numbers, organized into rows and columns.\n",
    "\n",
    "Imagine you have a grid of jars arranged in rows and columns on a table. Each jar contains a certain number of candies. Each row represents a list of numbers, and the arrangement of these rows and columns forms the 2D tensor.\n",
    "\n",
    "For example, if you have a table with three rows and four columns, and each jar contains a number of candies, it might look something like this:\n",
    "\n",
    "```\n",
    "[1, 2, 3, 4]\n",
    "[5, 6, 7, 8]\n",
    "[9, 10, 11, 12]\n",
    "```\n",
    "\n",
    "Here, each row represents a list of numbers, and the entire arrangement forms a 2D tensor. Each element in the tensor is uniquely identified by its row and column index.\n",
    "\n",
    "So, a 2D tensor is like a grid or table of numbers arranged in rows and columns."
   ]
  },
  {
   "cell_type": "markdown",
   "metadata": {},
   "source": [
    "- nD Tensor\n",
    "\n",
    "An ND (N-dimensional) tensor is a generalization of tensors to any number of dimensions beyond two (1D and 2D). It can be thought of as a multi-dimensional array of numbers.\n",
    "\n",
    "For instance:\n",
    "- A 0D tensor is a scalar, like a single number.\n",
    "- A 1D tensor is like a list or vector, with elements arranged in a single row.\n",
    "- A 2D tensor is like a table or matrix, with elements arranged in rows and columns.\n",
    "\n",
    "Beyond that, you can have tensors with 3 or more dimensions. Here's a simplified way to think about them:\n",
    "\n",
    "- **3D tensor**: Imagine a stack of matrices. Each matrix represents a 2D slice of the tensor.\n",
    "- **4D tensor**: Imagine a stack of 3D tensors. Each 3D tensor represents a \"volume\" of the 4D tensor.\n",
    "- **5D tensor**: Imagine a stack of 4D tensors. Each 4D tensor represents a \"hypervolume\" of the 5D tensor.\n",
    "- And so on...\n",
    "\n",
    "These higher-dimensional tensors are used in various fields like physics, engineering, and particularly in deep learning for representing complex data structures and computations in neural networks."
   ]
  }
 ],
 "metadata": {
  "kernelspec": {
   "display_name": "Python 3",
   "language": "python",
   "name": "python3"
  },
  "language_info": {
   "codemirror_mode": {
    "name": "ipython",
    "version": 3
   },
   "file_extension": ".py",
   "mimetype": "text/x-python",
   "name": "python",
   "nbconvert_exporter": "python",
   "pygments_lexer": "ipython3",
   "version": "3.10.12"
  }
 },
 "nbformat": 4,
 "nbformat_minor": 2
}
