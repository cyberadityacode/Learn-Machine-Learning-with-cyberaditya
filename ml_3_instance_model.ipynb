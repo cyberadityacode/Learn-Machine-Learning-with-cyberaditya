{
 "cells": [
  {
   "cell_type": "markdown",
   "metadata": {},
   "source": [
    "### Instance v/s Model Based Learning \n",
    "\n",
    "Instance-based learning and model-based learning are two different approaches in machine learning:\n",
    "\n",
    "1. **Instance-Based Learning**:\n",
    "   - Also known as memory-based learning or lazy learning.\n",
    "   - Learns directly from the instances (data points) in the training dataset.\n",
    "   - No explicit training phase; instead, it stores the training examples and waits until a new query instance is presented.\n",
    "   - When a prediction or classification is required for a new instance, it compares the new instance with instances in its memory (training dataset) and finds the most similar instances.\n",
    "   - Common examples include k-nearest neighbors (KNN) algorithm.\n",
    "   - Advantages:\n",
    "     - No explicit training phase, which makes it efficient for online learning scenarios where new data is constantly arriving.\n",
    "     - Can adapt to changes in the data distribution without needing to retrain the model.\n",
    "   - Disadvantages:\n",
    "     - Requires significant memory to store the entire training dataset.\n",
    "     - Computationally expensive during prediction, especially for large datasets.\n",
    "\n",
    "2. **Model-Based Learning**:\n",
    "   - Constructs a model from the training data during the training phase.\n",
    "   - The model captures the underlying patterns and relationships in the data.\n",
    "   - Once trained, the model can be used to make predictions or classifications for new instances.\n",
    "   - Examples include linear regression, decision trees, support vector machines (SVM), neural networks, etc.\n",
    "   - Advantages:\n",
    "     - Generally, faster prediction time compared to instance-based learning once the model is trained.\n",
    "     - Can handle high-dimensional data efficiently.\n",
    "   - Disadvantages:\n",
    "     - Requires a separate training phase, which can be time-consuming and computationally intensive, especially for complex models and large datasets.\n",
    "     - May not be as flexible as instance-based learning when dealing with noisy or dynamic data.\n",
    "\n",
    "In summary, instance-based learning directly uses the training instances for making predictions, while model-based learning constructs a model from the training data to make predictions for new instances. Each approach has its own advantages and disadvantages, and the choice between them depends on the specific characteristics of the problem at hand."
   ]
  }
 ],
 "metadata": {
  "language_info": {
   "name": "python"
  }
 },
 "nbformat": 4,
 "nbformat_minor": 2
}
